{
  "nbformat": 4,
  "nbformat_minor": 0,
  "metadata": {
    "colab": {
      "provenance": [],
      "authorship_tag": "ABX9TyMcGEsrdhSIrKos8hV6wZJV",
      "include_colab_link": true
    },
    "kernelspec": {
      "name": "python3",
      "display_name": "Python 3"
    },
    "language_info": {
      "name": "python"
    }
  },
  "cells": [
    {
      "cell_type": "markdown",
      "metadata": {
        "id": "view-in-github",
        "colab_type": "text"
      },
      "source": [
        "<a href=\"https://colab.research.google.com/github/Keisuke-Miyata/Flower102_Classification/blob/main/Flower102_classification.ipynb\" target=\"_parent\"><img src=\"https://colab.research.google.com/assets/colab-badge.svg\" alt=\"Open In Colab\"/></a>"
      ]
    },
    {
      "cell_type": "markdown",
      "source": [
        "## 0. Getting setup"
      ],
      "metadata": {
        "id": "La6k6P3dvJ7l"
      }
    },
    {
      "cell_type": "code",
      "execution_count": null,
      "metadata": {
        "id": "EQ9ZlRGSs_FV"
      },
      "outputs": [],
      "source": [
        "import torch\n",
        "import torchvision\n",
        "import matplotlib.pyplot as plt\n",
        "!pip install torchinfo\n",
        "from torchinfo import summary\n",
        "from torchvision.transforms import ToTensor\n",
        "from torchvision import transforms\n",
        "from torch import nn"
      ]
    },
    {
      "cell_type": "code",
      "source": [
        "device = \"cuda\" if torch.cuda.is_available() else \"cpu\"\n",
        "device"
      ],
      "metadata": {
        "id": "VgH-n2eMuUB_"
      },
      "execution_count": null,
      "outputs": []
    },
    {
      "cell_type": "markdown",
      "source": [
        "## 1. Setting up functions"
      ],
      "metadata": {
        "id": "KyhQp7VbvO3-"
      }
    },
    {
      "cell_type": "code",
      "source": [
        "import os\n",
        "\n",
        "os.makedirs(\"modular\", exist_ok=True)"
      ],
      "metadata": {
        "id": "qn27Rz8XuVAN"
      },
      "execution_count": null,
      "outputs": []
    },
    {
      "cell_type": "code",
      "source": [
        "%%writefile modular/data_setup.py\n",
        "\"\"\"\n",
        "Contains functionality for creating PyTorch DataLoaders for\n",
        "image classification data.\n",
        "\"\"\"\n",
        "import os\n",
        "\n",
        "from torchvision import datasets, transforms\n",
        "from torch.utils.data import DataLoader\n",
        "\n",
        "NUM_WORKERS = os.cpu_count()\n",
        "\n",
        "def create_dataloaders(\n",
        "    train_dir: str,\n",
        "    test_dir: str,\n",
        "    transform: transforms.Compose,\n",
        "    batch_size: int,\n",
        "    num_workers: int=NUM_WORKERS\n",
        "):\n",
        "  \"\"\"Creates training and testing DataLoaders.\n",
        "\n",
        "  Takes in a training directory and testing directory path and turns\n",
        "  them into PyTorch Datasets and then into PyTorch DataLoaders.\n",
        "\n",
        "  Args:\n",
        "    train_dir: Path to training directory.\n",
        "    test_dir: Path to testing directory.\n",
        "    transform: torchvision transforms to perform on training and testing data.\n",
        "    batch_size: Number of samples per batch in each of the DataLoaders.\n",
        "    num_workers: An integer for number of workers per DataLoader.\n",
        "\n",
        "  Returns:\n",
        "    A tuple of (train_dataloader, test_dataloader, class_names).\n",
        "    Where class_names is a list of the target classes.\n",
        "    Example usage:\n",
        "      train_dataloader, test_dataloader, class_names = \\\n",
        "        = create_dataloaders(train_dir=path/to/train_dir,\n",
        "                             test_dir=path/to/test_dir,\n",
        "                             transform=some_transform,\n",
        "                             batch_size=32,\n",
        "                             num_workers=4)\n",
        "  \"\"\"\n",
        "  # Use ImageFolder to create dataset(s)\n",
        "  train_data = datasets.ImageFolder(train_dir, transform=transform)\n",
        "  test_data = datasets.ImageFolder(test_dir, transform=transform)\n",
        "\n",
        "  # Get class names\n",
        "  class_names = train_data.classes\n",
        "\n",
        "  # Turn images into data loaders\n",
        "  train_dataloader = DataLoader(\n",
        "      train_data,\n",
        "      batch_size=batch_size,\n",
        "      shuffle=True,\n",
        "      num_workers=num_workers,\n",
        "      pin_memory=True,\n",
        "  )\n",
        "  test_dataloader = DataLoader(\n",
        "      test_data,\n",
        "      batch_size=batch_size,\n",
        "      shuffle=False, # don't need to shuffle test data\n",
        "      num_workers=num_workers,\n",
        "      pin_memory=True,\n",
        "  )\n",
        "\n",
        "  return train_dataloader, test_dataloader, class_names"
      ],
      "metadata": {
        "id": "ZZmYWWD-vWUG"
      },
      "execution_count": null,
      "outputs": []
    },
    {
      "cell_type": "code",
      "source": [
        "%%writefile modular/engine.py\n",
        "\"\"\"\n",
        "Contains functions for training and testing a PyTorch model.\n",
        "\"\"\"\n",
        "import torch\n",
        "\n",
        "from tqdm.auto import tqdm\n",
        "from typing import Dict, List, Tuple\n",
        "\n",
        "def train_step(model: torch.nn.Module,\n",
        "               dataloader: torch.utils.data.DataLoader,\n",
        "               loss_fn: torch.nn.Module,\n",
        "               optimizer: torch.optim.Optimizer,\n",
        "               device: torch.device) -> Tuple[float, float]:\n",
        "  \"\"\"Trains a PyTorch model for a single epoch.\n",
        "\n",
        "  Turns a target PyTorch model to training mode and then\n",
        "  runs through all of the required training steps (forward\n",
        "  pass, loss calculation, optimizer step).\n",
        "\n",
        "  Args:\n",
        "    model: A PyTorch model to be trained.\n",
        "    dataloader: A DataLoader instance for the model to be trained on.\n",
        "    loss_fn: A PyTorch loss function to minimize.\n",
        "    optimizer: A PyTorch optimizer to help minimize the loss function.\n",
        "    device: A target device to compute on (e.g. \"cuda\" or \"cpu\").\n",
        "\n",
        "  Returns:\n",
        "    A tuple of training loss and training accuracy metrics.\n",
        "    In the form (train_loss, train_accuracy). For example:\n",
        "\n",
        "    (0.1112, 0.8743)\n",
        "  \"\"\"\n",
        "  # Put model in train mode\n",
        "  model.train()\n",
        "\n",
        "  # Setup train loss and train accuracy values\n",
        "  train_loss, train_acc = 0, 0\n",
        "\n",
        "  # Loop through data loader data batches\n",
        "  for batch, (X, y) in enumerate(dataloader):\n",
        "      # Send data to target device\n",
        "      X, y = X.to(device), y.to(device)\n",
        "\n",
        "      # 1. Forward pass\n",
        "      y_pred = model(X)\n",
        "\n",
        "      # 2. Calculate  and accumulate loss\n",
        "      loss = loss_fn(y_pred, y)\n",
        "      train_loss += loss.item()\n",
        "\n",
        "      # 3. Optimizer zero grad\n",
        "      optimizer.zero_grad()\n",
        "\n",
        "      # 4. Loss backward\n",
        "      loss.backward()\n",
        "\n",
        "      # 5. Optimizer step\n",
        "      optimizer.step()\n",
        "\n",
        "      # Calculate and accumulate accuracy metric across all batches\n",
        "      y_pred_class = torch.argmax(torch.softmax(y_pred, dim=1), dim=1)\n",
        "      train_acc += (y_pred_class == y).sum().item()/len(y_pred)\n",
        "\n",
        "  # Adjust metrics to get average loss and accuracy per batch\n",
        "  train_loss = train_loss / len(dataloader)\n",
        "  train_acc = train_acc / len(dataloader)\n",
        "  return train_loss, train_acc\n",
        "\n",
        "def test_step(model: torch.nn.Module,\n",
        "              dataloader: torch.utils.data.DataLoader,\n",
        "              loss_fn: torch.nn.Module,\n",
        "              device: torch.device) -> Tuple[float, float]:\n",
        "  \"\"\"Tests a PyTorch model for a single epoch.\n",
        "\n",
        "  Turns a target PyTorch model to \"eval\" mode and then performs\n",
        "  a forward pass on a testing dataset.\n",
        "\n",
        "  Args:\n",
        "    model: A PyTorch model to be tested.\n",
        "    dataloader: A DataLoader instance for the model to be tested on.\n",
        "    loss_fn: A PyTorch loss function to calculate loss on the test data.\n",
        "    device: A target device to compute on (e.g. \"cuda\" or \"cpu\").\n",
        "\n",
        "  Returns:\n",
        "    A tuple of testing loss and testing accuracy metrics.\n",
        "    In the form (test_loss, test_accuracy). For example:\n",
        "\n",
        "    (0.0223, 0.8985)\n",
        "  \"\"\"\n",
        "  # Put model in eval mode\n",
        "  model.eval()\n",
        "\n",
        "  # Setup test loss and test accuracy values\n",
        "  test_loss, test_acc = 0, 0\n",
        "\n",
        "  # Turn on inference context manager\n",
        "  with torch.inference_mode():\n",
        "      # Loop through DataLoader batches\n",
        "      for batch, (X, y) in enumerate(dataloader):\n",
        "          # Send data to target device\n",
        "          X, y = X.to(device), y.to(device)\n",
        "\n",
        "          # 1. Forward pass\n",
        "          test_pred_logits = model(X)\n",
        "\n",
        "          # 2. Calculate and accumulate loss\n",
        "          loss = loss_fn(test_pred_logits, y)\n",
        "          test_loss += loss.item()\n",
        "\n",
        "          # Calculate and accumulate accuracy\n",
        "          test_pred_labels = test_pred_logits.argmax(dim=1)\n",
        "          test_acc += ((test_pred_labels == y).sum().item()/len(test_pred_labels))\n",
        "\n",
        "  # Adjust metrics to get average loss and accuracy per batch\n",
        "  test_loss = test_loss / len(dataloader)\n",
        "  test_acc = test_acc / len(dataloader)\n",
        "  return test_loss, test_acc\n",
        "\n",
        "def train(model: torch.nn.Module,\n",
        "          train_dataloader: torch.utils.data.DataLoader,\n",
        "          test_dataloader: torch.utils.data.DataLoader,\n",
        "          optimizer: torch.optim.Optimizer,\n",
        "          loss_fn: torch.nn.Module,\n",
        "          epochs: int,\n",
        "          device: torch.device) -> Dict[str, List]:\n",
        "  \"\"\"Trains and tests a PyTorch model.\n",
        "\n",
        "  Passes a target PyTorch models through train_step() and test_step()\n",
        "  functions for a number of epochs, training and testing the model\n",
        "  in the same epoch loop.\n",
        "\n",
        "  Calculates, prints and stores evaluation metrics throughout.\n",
        "\n",
        "  Args:\n",
        "    model: A PyTorch model to be trained and tested.\n",
        "    train_dataloader: A DataLoader instance for the model to be trained on.\n",
        "    test_dataloader: A DataLoader instance for the model to be tested on.\n",
        "    optimizer: A PyTorch optimizer to help minimize the loss function.\n",
        "    loss_fn: A PyTorch loss function to calculate loss on both datasets.\n",
        "    epochs: An integer indicating how many epochs to train for.\n",
        "    device: A target device to compute on (e.g. \"cuda\" or \"cpu\").\n",
        "\n",
        "  Returns:\n",
        "    A dictionary of training and testing loss as well as training and\n",
        "    testing accuracy metrics. Each metric has a value in a list for\n",
        "    each epoch.\n",
        "    In the form: {train_loss: [...],\n",
        "                  train_acc: [...],\n",
        "                  test_loss: [...],\n",
        "                  test_acc: [...]}\n",
        "    For example if training for epochs=2:\n",
        "                 {train_loss: [2.0616, 1.0537],\n",
        "                  train_acc: [0.3945, 0.3945],\n",
        "                  test_loss: [1.2641, 1.5706],\n",
        "                  test_acc: [0.3400, 0.2973]}\n",
        "  \"\"\"\n",
        "  # Create empty results dictionary\n",
        "  results = {\"train_loss\": [],\n",
        "      \"train_acc\": [],\n",
        "      \"test_loss\": [],\n",
        "      \"test_acc\": []\n",
        "  }\n",
        "\n",
        "  # Loop through training and testing steps for a number of epochs\n",
        "  for epoch in tqdm(range(epochs)):\n",
        "      train_loss, train_acc = train_step(model=model,\n",
        "                                          dataloader=train_dataloader,\n",
        "                                          loss_fn=loss_fn,\n",
        "                                          optimizer=optimizer,\n",
        "                                          device=device)\n",
        "      test_loss, test_acc = test_step(model=model,\n",
        "          dataloader=test_dataloader,\n",
        "          loss_fn=loss_fn,\n",
        "          device=device)\n",
        "\n",
        "      # Print out what's happening\n",
        "      print(\n",
        "          f\"Epoch: {epoch+1} | \"\n",
        "          f\"train_loss: {train_loss:.4f} | \"\n",
        "          f\"train_acc: {train_acc:.4f} | \"\n",
        "          f\"test_loss: {test_loss:.4f} | \"\n",
        "          f\"test_acc: {test_acc:.4f}\"\n",
        "      )\n",
        "\n",
        "      # Update results dictionary\n",
        "      results[\"train_loss\"].append(train_loss)\n",
        "      results[\"train_acc\"].append(train_acc)\n",
        "      results[\"test_loss\"].append(test_loss)\n",
        "      results[\"test_acc\"].append(test_acc)\n",
        "\n",
        "  # Return the filled results at the end of the epochs\n",
        "  return results"
      ],
      "metadata": {
        "id": "UmT2-iQBveHS"
      },
      "execution_count": null,
      "outputs": []
    },
    {
      "cell_type": "code",
      "source": [
        "%%writefile modular/helper.py\n",
        "\n",
        "from typing import Dict, List\n",
        "from matplotlib import pyplot as plt\n",
        "\n",
        "\n",
        "def plot_loss_curves(results: Dict[str, List[float]]):\n",
        "    \"\"\"Plots training curves of a results dictionary.\n",
        "\n",
        "    Args:\n",
        "        results (dict): dictionary containing list of values, e.g.\n",
        "            {\"train_loss\": [...],\n",
        "             \"train_acc\": [...],\n",
        "             \"test_loss\": [...],\n",
        "             \"test_acc\": [...]}\n",
        "    \"\"\"\n",
        "\n",
        "    # Get the loss values of the results dictionary (training and test)\n",
        "    loss = results['train_loss']\n",
        "    test_loss = results['test_loss']\n",
        "\n",
        "    # Get the accuracy values of the results dictionary (training and test)\n",
        "    accuracy = results['train_acc']\n",
        "    test_accuracy = results['test_acc']\n",
        "\n",
        "    # Figure out how many epochs there were\n",
        "    epochs = range(len(results['train_loss']))\n",
        "\n",
        "    # Setup a plot\n",
        "    plt.figure(figsize=(15, 7))\n",
        "\n",
        "    # Plot loss\n",
        "    plt.subplot(1, 2, 1)\n",
        "    plt.plot(epochs, loss, label='train_loss')\n",
        "    plt.plot(epochs, test_loss, label='test_loss')\n",
        "    plt.title('Loss')\n",
        "    plt.xlabel('Epochs')\n",
        "    plt.legend()\n",
        "\n",
        "    # Plot accuracy\n",
        "    plt.subplot(1, 2, 2)\n",
        "    plt.plot(epochs, accuracy, label='train_accuracy')\n",
        "    plt.plot(epochs, test_accuracy, label='test_accuracy')\n",
        "    plt.title('Accuracy')\n",
        "    plt.xlabel('Epochs')\n",
        "    plt.legend();"
      ],
      "metadata": {
        "id": "jxdgQoAMvfH_"
      },
      "execution_count": null,
      "outputs": []
    },
    {
      "cell_type": "code",
      "source": [
        "%%writefile modular/utils.py\n",
        "\"\"\"\n",
        "Contains various utility functions for PyTorch model training and saving.\n",
        "\"\"\"\n",
        "import torch\n",
        "from pathlib import Path\n",
        "\n",
        "def save_model(model: torch.nn.Module,\n",
        "               target_dir: str,\n",
        "               model_name: str):\n",
        "  \"\"\"Saves a PyTorch model to a target directory.\n",
        "\n",
        "  Args:\n",
        "    model: A target PyTorch model to save.\n",
        "    target_dir: A directory for saving the model to.\n",
        "    model_name: A filename for the saved model. Should include\n",
        "      either \".pth\" or \".pt\" as the file extension.\n",
        "\n",
        "  Example usage:\n",
        "    save_model(model=model_0,\n",
        "               target_dir=\"models\",\n",
        "               model_name=\"pretrained_vit_feature_extractor_3_types_of_flowers.pth\")\n",
        "  \"\"\"\n",
        "  # Create target directory\n",
        "  target_dir_path = Path(target_dir)\n",
        "  target_dir_path.mkdir(parents=True,\n",
        "                        exist_ok=True)\n",
        "\n",
        "  # Create model save path\n",
        "  assert model_name.endswith(\".pth\") or model_name.endswith(\".pt\"), \"model_name should end with '.pt' or '.pth'\"\n",
        "  model_save_path = target_dir_path / model_name\n",
        "\n",
        "  # Save the model state_dict()\n",
        "  print(f\"[INFO] Saving model to: {model_save_path}\")\n",
        "  torch.save(obj=model.state_dict(),\n",
        "             f=model_save_path)\n",
        "\n",
        "\n",
        "import pathlib\n",
        "import torch\n",
        "\n",
        "from PIL import Image\n",
        "from timeit import default_timer as timer\n",
        "from tqdm.auto import tqdm\n",
        "from typing import List, Dict\n",
        "import torchvision.transforms as transforms\n",
        "\n",
        "\n",
        "\n",
        "  # 1. Create a function to return a list of dictionaries with sample, truth label, prediction, prediction probability and prediction time\n",
        "def pred_and_store(paths: List[pathlib.Path],\n",
        "                   model: torch.nn.Module,\n",
        "                   transform: transforms.Compose,\n",
        "                   class_names: List[str],\n",
        "                   device: str = \"cuda\" if torch.cuda.is_available() else \"cpu\") -> List[Dict]:\n",
        "\n",
        "    # 2. Create an empty list to store prediction dictionaries\n",
        "    pred_list = []\n",
        "\n",
        "    # 3. Loop through target paths\n",
        "    for path in tqdm(paths):\n",
        "\n",
        "        # 4. Create empty dictionary to store prediction information for each sample\n",
        "        pred_dict = {}\n",
        "\n",
        "        # 5. Get the sample path and ground truth class name\n",
        "        pred_dict[\"image_path\"] = path\n",
        "        class_name = path.parent.stem\n",
        "        pred_dict[\"class_name\"] = class_name\n",
        "\n",
        "        # 6. Start the prediction timer\n",
        "        start_time = timer()\n",
        "\n",
        "        # 7. Open image path\n",
        "        img = Image.open(path)\n",
        "\n",
        "        # 8. Transform the image, add batch dimension and put image on target device\n",
        "        transformed_image = transform(img).unsqueeze(0).to(device)\n",
        "\n",
        "        # 9. Prepare model for inference by sending it to target device and turning on eval() mode\n",
        "        model.to(device)\n",
        "        model.eval()\n",
        "\n",
        "        # 10. Get prediction probability, predicition label and prediction class\n",
        "        with torch.inference_mode():\n",
        "            pred_logit = model(transformed_image) # perform inference on target sample\n",
        "            pred_prob = torch.softmax(pred_logit, dim=1) # turn logits into prediction probabilities\n",
        "            pred_label = torch.argmax(pred_prob, dim=1) # turn prediction probabilities into prediction label\n",
        "            pred_class = class_names[pred_label.cpu()] # hardcode prediction class to be on CPU\n",
        "\n",
        "            # 11. Make sure things in the dictionary are on CPU (required for inspecting predictions later on)\n",
        "            pred_dict[\"pred_prob\"] = round(pred_prob.unsqueeze(0).max().cpu().item(), 4)\n",
        "            pred_dict[\"pred_class\"] = pred_class\n",
        "\n",
        "            # 12. End the timer and calculate time per pred\n",
        "            end_time = timer()\n",
        "            pred_dict[\"time_for_pred\"] = round(end_time-start_time, 4)\n",
        "\n",
        "        # 13. Does the pred match the true label?\n",
        "        pred_dict[\"correct\"] = class_name == pred_class\n",
        "\n",
        "        # 14. Add the dictionary to the list of preds\n",
        "        pred_list.append(pred_dict)\n",
        "\n",
        "    # 15. Return list of prediction dictionaries\n",
        "    return pred_list"
      ],
      "metadata": {
        "id": "Hg25KL0B5-kb"
      },
      "execution_count": null,
      "outputs": []
    },
    {
      "cell_type": "code",
      "source": [
        "# Set seeds\n",
        "def set_seeds(seed: int=42):\n",
        "    \"\"\"Sets random sets for torch operations.\n",
        "\n",
        "    Args:\n",
        "        seed (int, optional): Random seed to set. Defaults to 42.\n",
        "    \"\"\"\n",
        "    # Set the seed for general torch operations\n",
        "    torch.manual_seed(seed)\n",
        "    # Set the seed for CUDA torch operations (ones that happen on the GPU)\n",
        "    torch.cuda.manual_seed(seed)"
      ],
      "metadata": {
        "id": "uOn2ckdiv0_D"
      },
      "execution_count": null,
      "outputs": []
    },
    {
      "cell_type": "markdown",
      "source": [],
      "metadata": {
        "id": "sxDaFSmcepAk"
      }
    },
    {
      "cell_type": "code",
      "source": [
        "classes = [\n",
        "        \"pink primrose\",\n",
        "        \"hard-leaved pocket orchid\",\n",
        "        \"canterbury bells\",\n",
        "        \"sweet pea\",\n",
        "        \"english marigold\",\n",
        "        \"tiger lily\",\n",
        "        \"moon orchid\",\n",
        "        \"bird of paradise\",\n",
        "        \"monkshood\",\n",
        "        \"globe thistle\",\n",
        "        \"snapdragon\",\n",
        "        \"colt's foot\",\n",
        "        \"king protea\",\n",
        "        \"spear thistle\",\n",
        "        \"yellow iris\",\n",
        "        \"globe-flower\",\n",
        "        \"purple coneflower\",\n",
        "        \"peruvian lily\",\n",
        "        \"balloon flower\",\n",
        "        \"giant white arum lily\",\n",
        "        \"fire lily\",\n",
        "        \"pincushion flower\",\n",
        "        \"fritillary\",\n",
        "        \"red ginger\",\n",
        "        \"grape hyacinth\",\n",
        "        \"corn poppy\",\n",
        "        \"prince of wales feathers\",\n",
        "        \"stemless gentian\",\n",
        "        \"artichoke\",\n",
        "        \"sweet william\",\n",
        "        \"carnation\",\n",
        "        \"garden phlox\",\n",
        "        \"love in the mist\",\n",
        "        \"mexican aster\",\n",
        "        \"alpine sea holly\",\n",
        "        \"ruby-lipped cattleya\",\n",
        "        \"cape flower\",\n",
        "        \"great masterwort\",\n",
        "        \"siam tulip\",\n",
        "        \"lenten rose\",\n",
        "        \"barbeton daisy\",\n",
        "        \"daffodil\",\n",
        "        \"sword lily\",\n",
        "        \"poinsettia\",\n",
        "        \"bolero deep blue\",\n",
        "        \"wallflower\",\n",
        "        \"marigold\",\n",
        "        \"buttercup\",\n",
        "        \"oxeye daisy\",\n",
        "        \"common dandelion\",\n",
        "        \"petunia\",\n",
        "        \"wild pansy\",\n",
        "        \"primula\",\n",
        "        \"sunflower\",\n",
        "        \"pelargonium\",\n",
        "        \"bishop of llandaff\",\n",
        "        \"gaura\",\n",
        "        \"geranium\",\n",
        "        \"orange dahlia\",\n",
        "        \"pink-yellow dahlia?\",\n",
        "        \"cautleya spicata\",\n",
        "        \"japanese anemone\",\n",
        "        \"black-eyed susan\",\n",
        "        \"silverbush\",\n",
        "        \"californian poppy\",\n",
        "        \"osteospermum\",\n",
        "        \"spring crocus\",\n",
        "        \"bearded iris\",\n",
        "        \"windflower\",\n",
        "        \"tree poppy\",\n",
        "        \"gazania\",\n",
        "        \"azalea\",\n",
        "        \"water lily\",\n",
        "        \"rose\",\n",
        "        \"thorn apple\",\n",
        "        \"morning glory\",\n",
        "        \"passion flower\",\n",
        "        \"lotus\",\n",
        "        \"toad lily\",\n",
        "        \"anthurium\",\n",
        "        \"frangipani\",\n",
        "        \"clematis\",\n",
        "        \"hibiscus\",\n",
        "        \"columbine\",\n",
        "        \"desert-rose\",\n",
        "        \"tree mallow\",\n",
        "        \"magnolia\",\n",
        "        \"cyclamen\",\n",
        "        \"watercress\",\n",
        "        \"canna lily\",\n",
        "        \"hippeastrum\",\n",
        "        \"bee balm\",\n",
        "        \"ball moss\",\n",
        "        \"foxglove\",\n",
        "        \"bougainvillea\",\n",
        "        \"camellia\",\n",
        "        \"mallow\",\n",
        "        \"mexican petunia\",\n",
        "        \"bromelia\",\n",
        "        \"blanket flower\",\n",
        "        \"trumpet creeper\",\n",
        "        \"blackberry lily\",\n",
        "    ]\n",
        "\n",
        "class_to_idx = {name: i for i, name in enumerate(classes)}\n"
      ],
      "metadata": {
        "id": "GPzCaTWeeSp0"
      },
      "execution_count": null,
      "outputs": []
    },
    {
      "cell_type": "code",
      "source": [
        "idx_to_class = {v: k for k, v in class_to_idx.items()}\n",
        "class_names = [idx_to_class[i] for i in range(len(idx_to_class))]\n",
        "idx_to_class, class_names\n"
      ],
      "metadata": {
        "id": "Qvn7nGGr-3TK"
      },
      "execution_count": null,
      "outputs": []
    },
    {
      "cell_type": "markdown",
      "source": [
        "## 2. Getting data"
      ],
      "metadata": {
        "id": "ogLEA-FswJ0F"
      }
    },
    {
      "cell_type": "code",
      "source": [
        "import os\n",
        "import torch\n",
        "import random\n",
        "from torchvision import datasets\n",
        "from torchvision.transforms import ToTensor\n",
        "from torch.utils.data import Subset\n",
        "from PIL import Image\n",
        "\n",
        "# Specify dataset root\n",
        "dataset_root = \"data\"\n",
        "\n",
        "# Load datasets\n",
        "full_train_data = datasets.Flowers102(root=dataset_root, split=\"train\", download=True, transform=ToTensor())\n",
        "full_test_data = datasets.Flowers102(root=dataset_root, split=\"test\", download=True, transform=ToTensor())\n",
        "\n",
        "\n",
        "\n",
        "# Define the classes\n",
        "selected_classes = [\"pink primrose\", \"hard-leaved pocket orchid\", \"canterbury bells\"]\n",
        "\n",
        "# Get the class-to-index mapping\n",
        "selected_class_indices = [class_to_idx[cls] for cls in selected_classes]\n",
        "print(selected_class_indices)\n",
        "\n",
        "\n",
        "# Get indices of images belonging to the selected classes\n",
        "train_indices = [i for i, (_, label) in enumerate(full_train_data) if label in selected_class_indices]\n",
        "test_indices = [i for i, (_, label) in enumerate(full_test_data) if label in selected_class_indices]\n",
        "\n",
        "\n",
        "# Function to select only a small set of the images per class: default is 10%\n",
        "def select_subset(indices, dataset, percentage=0.1):\n",
        "    class_dict = {cls: [] for cls in selected_class_indices}\n",
        "\n",
        "    # Group images by class\n",
        "    for i in indices:\n",
        "        _, label = dataset[i]\n",
        "        class_dict[label].append(i)\n",
        "\n",
        "    # Randomly select 10% from each class\n",
        "    subset_indices = []\n",
        "    for label, img_indices in class_dict.items():\n",
        "        num_samples = max(1, int(len(img_indices) * percentage))  # At least 1 sample per class\n",
        "        subset_indices.extend(random.sample(img_indices, num_samples))\n",
        "\n",
        "    return Subset(dataset, subset_indices)\n",
        "\n",
        "\n",
        "# Function to save images\n",
        "def save_images(dataset, dataset_type, target_dir):\n",
        "    for i, (image_tensor, label) in enumerate(dataset):\n",
        "        # Convert tensor to PIL image\n",
        "        image = Image.fromarray((image_tensor.permute(1, 2, 0).numpy() * 255).astype(\"uint8\"))\n",
        "\n",
        "        # Get class name\n",
        "        class_name = [name for name, idx in class_to_idx.items() if idx == label][0]\n",
        "\n",
        "        # Create class directory\n",
        "        class_dir = os.path.join(target_dir, dataset_type, class_name)\n",
        "        os.makedirs(class_dir, exist_ok=True)\n",
        "\n",
        "        # Save image\n",
        "        image.save(os.path.join(class_dir, f\"{i}.jpg\"))\n",
        "\n",
        "\n"
      ],
      "metadata": {
        "id": "JhvnZX4JwMMW"
      },
      "execution_count": null,
      "outputs": []
    },
    {
      "cell_type": "code",
      "source": [
        "from collections import Counter\n",
        "\n",
        "# Check label distribution in train indices\n",
        "train_label_distribution = Counter([full_train_data[i][1] for i in train_indices])\n",
        "print(f\"Train label distribution: {train_label_distribution}\")\n",
        "\n",
        "# Check label distribution in test indices\n",
        "test_label_distribution = Counter([full_test_data[i][1] for i in test_indices])\n",
        "print(f\"Test label distribution: {test_label_distribution}\")\n",
        "\n"
      ],
      "metadata": {
        "id": "QRVvHWF_i79t"
      },
      "execution_count": null,
      "outputs": []
    },
    {
      "cell_type": "code",
      "source": [
        "from pathlib import Path\n",
        "\n",
        "# Select 10% subset\n",
        "train_data_10 = select_subset(train_indices, full_train_data, percentage=0.1)\n",
        "test_data_10 = select_subset(test_indices, full_test_data, percentage=0.1)\n",
        "print(f\"Train 10%: {len(train_data_10)}\")\n",
        "print(f\"Test 10%: {len(test_data_10)}\")\n",
        "\n",
        "# Create directory to store filtered images\n",
        "save_dir_10 = Path(\"data/3_types_of_flowers_10%\")\n",
        "os.makedirs(save_dir_10, exist_ok=True)\n",
        "\n",
        "# Save train and test images\n",
        "save_images(train_data_10, \"train\", save_dir_10)\n",
        "save_images(test_data_10, \"test\", save_dir_10)\n",
        "\n",
        "print(\"Filtered images (10%) saved successfully in data/3_types_of_flowers_10%\")\n",
        "save_dir_10"
      ],
      "metadata": {
        "id": "H7_5xg5tylBs"
      },
      "execution_count": null,
      "outputs": []
    },
    {
      "cell_type": "code",
      "source": [
        "from PIL import Image\n",
        "\n",
        "# Open an image\n",
        "# img = Image.open(\"data/apple_lion_bus_10%/test/apple/0.png\")\n",
        "img = Image.open(\"data/3_types_of_flowers_10%/test/pink primrose/0.jpg\")\n",
        "\n",
        "\n",
        "# Get size\n",
        "width, height = img.size\n",
        "print(f\"Image size: {width}x{height}\")\n"
      ],
      "metadata": {
        "id": "eeaqP6N-HVq5"
      },
      "execution_count": null,
      "outputs": []
    },
    {
      "cell_type": "code",
      "source": [
        "from pathlib import Path\n",
        "# Select 20% subset\n",
        "train_data_20 = select_subset(train_indices, full_train_data, percentage=0.2)\n",
        "test_data_20 = select_subset(test_indices, full_test_data, percentage=0.2)\n",
        "\n",
        "# Create new directory for 20% filtered images\n",
        "save_dir_20 = Path(\"data/3_types_of_flowers_20%\")\n",
        "os.makedirs(save_dir_20, exist_ok=True)\n",
        "\n",
        "\n",
        "# Save images\n",
        "save_images(train_data_20, \"train\", save_dir_20)\n",
        "save_images(test_data_20, \"test\", save_dir_20)\n",
        "\n",
        "print(\"Filtered images (20%) saved successfully in data/3_types_of_flowers_20%\")\n",
        "save_dir_20"
      ],
      "metadata": {
        "id": "w99qwOOpykts"
      },
      "execution_count": null,
      "outputs": []
    },
    {
      "cell_type": "code",
      "source": [
        "from pathlib import Path\n",
        "# Select 100% subset\n",
        "train_data_100 = select_subset(train_indices, full_train_data, percentage=1.0)\n",
        "test_data_100 = select_subset(test_indices, full_test_data, percentage=1.0)\n",
        "\n",
        "# Create new directory for 20% filtered images\n",
        "save_dir_100 = Path(\"data/3_types_of_flowers_100%\")\n",
        "os.makedirs(save_dir_100, exist_ok=True)\n",
        "\n",
        "\n",
        "# Save images\n",
        "save_images(train_data_100, \"train\", save_dir_100)\n",
        "save_images(test_data_100, \"test\", save_dir_100)\n",
        "\n",
        "print(\"Filtered images (20%) saved successfully in data/3_types_of_flowers_100%\")\n",
        "save_dir_100"
      ],
      "metadata": {
        "id": "XKNXrFxvpO3n"
      },
      "execution_count": null,
      "outputs": []
    },
    {
      "cell_type": "code",
      "source": [
        "# Setup directory paths to train and test images\n",
        "train_dir = save_dir_100 / \"train\"\n",
        "test_dir = save_dir_100 / \"test\""
      ],
      "metadata": {
        "id": "CMCgYzJIzLiQ"
      },
      "execution_count": null,
      "outputs": []
    },
    {
      "cell_type": "code",
      "source": [
        "def create_effnetb2_model(num_classes:int=3,\n",
        "                          seed:int=42):\n",
        "    \"\"\"Creates an EfficientNetB2 feature extractor model and transforms.\n",
        "\n",
        "    Args:\n",
        "        num_classes (int, optional): number of classes in the classifier head.\n",
        "            Defaults to 3.\n",
        "        seed (int, optional): random seed value. Defaults to 42.\n",
        "\n",
        "    Returns:\n",
        "        model (torch.nn.Module): EffNetB2 feature extractor model.\n",
        "        transforms (torchvision.transforms): EffNetB2 image transforms.\n",
        "    \"\"\"\n",
        "    # 1, 2, 3. Create EffNetB2 pretrained weights, transforms and model\n",
        "    weights = torchvision.models.EfficientNet_B2_Weights.DEFAULT\n",
        "    transforms = weights.transforms()\n",
        "    model = torchvision.models.efficientnet_b2(weights=weights)\n",
        "\n",
        "    # 4. Freeze all layers in base model\n",
        "    for param in model.parameters():\n",
        "        param.requires_grad = False\n",
        "\n",
        "    # 5. Change classifier head with random seed for reproducibility\n",
        "    torch.manual_seed(seed)\n",
        "    model.classifier = nn.Sequential(\n",
        "        nn.Dropout(p=0.3, inplace=True),\n",
        "        nn.Linear(in_features=1408, out_features=num_classes),\n",
        "    )\n",
        "\n",
        "    return model, transforms"
      ],
      "metadata": {
        "id": "kFjBcbGSziYG"
      },
      "execution_count": null,
      "outputs": []
    },
    {
      "cell_type": "code",
      "source": [
        "effnetb2, effnetb2_transforms = create_effnetb2_model(num_classes=3,\n",
        "                                                      seed=42)"
      ],
      "metadata": {
        "id": "dqXE8soDzrum"
      },
      "execution_count": null,
      "outputs": []
    },
    {
      "cell_type": "code",
      "source": [
        "from torchinfo import summary\n",
        "\n",
        "# Print EffNetB2 model summary (uncomment for full output)\n",
        "summary(effnetb2,\n",
        "        input_size=(1, 3, 224, 224),\n",
        "        col_names=[\"input_size\", \"output_size\", \"num_params\", \"trainable\"],\n",
        "        col_width=20,\n",
        "        row_settings=[\"var_names\"])"
      ],
      "metadata": {
        "id": "H36mj03Szrpu"
      },
      "execution_count": null,
      "outputs": []
    },
    {
      "cell_type": "code",
      "source": [
        "# Setup DataLoaders\n",
        "from modular import data_setup\n",
        "train_dataloader_effnetb2, test_dataloader_effnetb2, class_names = data_setup.create_dataloaders(train_dir=train_dir,\n",
        "                                                                                                 test_dir=test_dir,\n",
        "                                                                                                 transform=effnetb2_transforms,\n",
        "                                                                                                 batch_size=32)"
      ],
      "metadata": {
        "id": "b44rx1ou0Q_-"
      },
      "execution_count": null,
      "outputs": []
    },
    {
      "cell_type": "code",
      "source": [
        "from modular import engine\n",
        "\n",
        "# Setup optimizer\n",
        "optimizer = torch.optim.Adam(params=effnetb2.parameters(),\n",
        "                             lr=1e-3)\n",
        "# Setup loss function\n",
        "loss_fn = torch.nn.CrossEntropyLoss()\n",
        "\n",
        "# Set seeds for reproducibility and train the model\n",
        "set_seeds()\n",
        "effnetb2_results = engine.train(model=effnetb2,\n",
        "                                train_dataloader=train_dataloader_effnetb2,\n",
        "                                test_dataloader=test_dataloader_effnetb2,\n",
        "                                epochs=10,\n",
        "                                optimizer=optimizer,\n",
        "                                loss_fn=loss_fn,\n",
        "                                device=device)"
      ],
      "metadata": {
        "id": "-lgWZqPe0e55"
      },
      "execution_count": null,
      "outputs": []
    },
    {
      "cell_type": "code",
      "source": [
        "import importlib\n",
        "import modular.helper  # Import the module\n",
        "\n",
        "importlib.reload(modular.helper)  # Reload the module"
      ],
      "metadata": {
        "id": "ZbPN8Bc-4kO0"
      },
      "execution_count": null,
      "outputs": []
    },
    {
      "cell_type": "code",
      "source": [
        "from modular.helper import plot_loss_curves\n",
        "\n",
        "\n",
        "plot_loss_curves(effnetb2_results)"
      ],
      "metadata": {
        "id": "B9_qF4Hi2ANH"
      },
      "execution_count": null,
      "outputs": []
    },
    {
      "cell_type": "code",
      "source": [
        "from modular.utils import save_model\n",
        "\n",
        "# Save the model\n",
        "save_model(model=effnetb2,\n",
        "                 target_dir=\"models\",\n",
        "                 model_name=\"pretrained_effnetb2_feature_extractor_3_types_of_flowers_100%.pth\")"
      ],
      "metadata": {
        "id": "-vbs4tB76GU3"
      },
      "execution_count": null,
      "outputs": []
    },
    {
      "cell_type": "code",
      "source": [
        "from pathlib import Path\n",
        "\n",
        "# Get the model size in bytes then convert to megabytes\n",
        "pretrained_effnetb2_model_size = Path(\"models/pretrained_effnetb2_feature_extractor_3_types_of_flowers_100%.pth\").stat().st_size // (1024*1024) # division converts bytes to megabytes (roughly)\n",
        "print(f\"Pretrained EffNetB2 feature extractor model size: {pretrained_effnetb2_model_size} MB\")"
      ],
      "metadata": {
        "id": "TL-5njRd6OZZ"
      },
      "execution_count": null,
      "outputs": []
    },
    {
      "cell_type": "code",
      "source": [
        "# Count number of parameters in EffNetB2\n",
        "effnetb2_total_params = sum(torch.numel(param) for param in effnetb2.parameters())\n",
        "effnetb2_total_params"
      ],
      "metadata": {
        "id": "2LWdeSRc6SU9"
      },
      "execution_count": null,
      "outputs": []
    },
    {
      "cell_type": "code",
      "source": [
        "# Create a dictionary with EffNetB2 statistics\n",
        "effnetb2_stats = {\"test_loss\": effnetb2_results[\"test_loss\"][-1],\n",
        "                  \"test_acc\": effnetb2_results[\"test_acc\"][-1],\n",
        "                  \"number_of_parameters\": effnetb2_total_params,\n",
        "                  \"model_size (MB)\": pretrained_effnetb2_model_size}\n",
        "effnetb2_stats"
      ],
      "metadata": {
        "id": "F5nDhxBX6WHD"
      },
      "execution_count": null,
      "outputs": []
    },
    {
      "cell_type": "markdown",
      "source": [
        "### EfficientNet_B3"
      ],
      "metadata": {
        "id": "S3cQlwdscOxf"
      }
    },
    {
      "cell_type": "code",
      "source": [
        "effnetb3 = torchvision.models.efficientnet_b3()\n",
        "effnetb3.classifier"
      ],
      "metadata": {
        "id": "M-RApYLHcD3T"
      },
      "execution_count": null,
      "outputs": []
    },
    {
      "cell_type": "code",
      "source": [
        "def create_effnetb3_model(num_classes:int=3,\n",
        "                          seed:int=42):\n",
        "\n",
        "  weights = torchvision.models.EfficientNet_B3_Weights.DEFAULT\n",
        "  transforms = weights.transforms()\n",
        "  model = torchvision.models.efficientnet_b3(weights=weights)\n",
        "\n",
        "  for param in model.parameters():\n",
        "    param.requires_grad = False\n",
        "\n",
        "  torch.manual_seed(seed)\n",
        "  model.classifier = nn.Sequential(\n",
        "        nn.Dropout(p=0.3, inplace=True),\n",
        "        nn.Linear(in_features=1536, out_features=num_classes),\n",
        "    )\n",
        "\n",
        "  return model, transforms"
      ],
      "metadata": {
        "id": "oxL8LvYEdkof"
      },
      "execution_count": null,
      "outputs": []
    },
    {
      "cell_type": "code",
      "source": [
        "effnetb3, effnetb3_transforms = create_effnetb3_model(num_classes=3,\n",
        "                                                      seed=42)"
      ],
      "metadata": {
        "id": "XvQ_Ah6qedh5"
      },
      "execution_count": null,
      "outputs": []
    },
    {
      "cell_type": "code",
      "source": [
        "from torchinfo import summary\n",
        "\n",
        "summary(effnetb3,\n",
        "        input_size=(1, 3, 224, 224),\n",
        "        col_names=[\"input_size\", \"output_size\", \"num_params\", \"trainable\"],\n",
        "        col_width=20,\n",
        "        row_settings=[\"var_names\"])"
      ],
      "metadata": {
        "id": "SXi46QWbeiVG"
      },
      "execution_count": null,
      "outputs": []
    },
    {
      "cell_type": "code",
      "source": [
        "from modular import data_setup\n",
        "train_dataloader_effnetb3, test_dataloader_effnetb3, class_names = data_setup.create_dataloaders(train_dir=train_dir,\n",
        "                                                                                                 test_dir=test_dir,\n",
        "                                                                                                 transform=effnetb3_transforms,\n",
        "                                                                                                 batch_size=32)"
      ],
      "metadata": {
        "id": "SgNCRS2Ges8B"
      },
      "execution_count": null,
      "outputs": []
    },
    {
      "cell_type": "code",
      "source": [
        "from modular import engine\n",
        "\n",
        "optimizer = torch.optim.Adam(\n",
        "    params=effnetb3.parameters(),\n",
        "    lr=1e-3\n",
        ")\n",
        "\n",
        "loss_fn = torch.nn.CrossEntropyLoss()\n",
        "\n",
        "set_seeds()\n",
        "effnetb3_results = engine.train(\n",
        "    model=effnetb3,\n",
        "    train_dataloader=train_dataloader_effnetb3,\n",
        "    test_dataloader=test_dataloader_effnetb3,\n",
        "    epochs=10,\n",
        "    optimizer=optimizer,\n",
        "    loss_fn=loss_fn,\n",
        "    device=device\n",
        ")"
      ],
      "metadata": {
        "id": "BgCgHbZle5kT"
      },
      "execution_count": null,
      "outputs": []
    },
    {
      "cell_type": "code",
      "source": [
        "from modular.helper import plot_loss_curves\n",
        "\n",
        "plot_loss_curves(effnetb3_results)"
      ],
      "metadata": {
        "id": "lUrC-hEtfKtT"
      },
      "execution_count": null,
      "outputs": []
    },
    {
      "cell_type": "code",
      "source": [
        "from modular import utils\n",
        "\n",
        "utils.save_model(model=effnetb3,\n",
        "                 target_dir=\"models\",\n",
        "                 model_name=\"pretrained_effnetb3_feature_extractor_3_types_of_flowers_100%.pth\")"
      ],
      "metadata": {
        "id": "SwXv96MPfTZN"
      },
      "execution_count": null,
      "outputs": []
    },
    {
      "cell_type": "code",
      "source": [
        "from pathlib import Path\n",
        "\n",
        "pretrained_effnetb3_model_size = Path(\"models/pretrained_effnetb3_feature_extractor_3_types_of_flowers_100%.pth\").stat().st_size // (1024*1024) # division converts bytes to megabytes (roughly)"
      ],
      "metadata": {
        "id": "5GkfRs4jfS_H"
      },
      "execution_count": null,
      "outputs": []
    },
    {
      "cell_type": "code",
      "source": [
        "effnetb3_total_params = sum(torch.numel(param) for param in effnetb3.parameters())\n",
        "effnetb3_total_params"
      ],
      "metadata": {
        "id": "U5VMrwGafkGA"
      },
      "execution_count": null,
      "outputs": []
    },
    {
      "cell_type": "code",
      "source": [
        "effnetb3_stats = {\"test_loss\": effnetb3_results[\"test_loss\"][-1],\n",
        "                  \"test_acc\": effnetb3_results[\"test_acc\"][-1],\n",
        "                  \"number_of_parameters\": effnetb3_total_params,\n",
        "                  \"model_size (MB)\": pretrained_effnetb3_model_size}\n",
        "effnetb3_stats"
      ],
      "metadata": {
        "id": "RI2pjv1lftJ2"
      },
      "execution_count": null,
      "outputs": []
    },
    {
      "cell_type": "markdown",
      "source": [
        "###classtorchvision.models.ViT_B_16_"
      ],
      "metadata": {
        "id": "PlpQIvMW6gHC"
      }
    },
    {
      "cell_type": "code",
      "source": [
        "# Check out ViT heads layer\n",
        "vit = torchvision.models.vit_b_16()\n",
        "vit.heads"
      ],
      "metadata": {
        "id": "6ebEni_g6gxD"
      },
      "execution_count": null,
      "outputs": []
    },
    {
      "cell_type": "code",
      "source": [
        "def create_vit_model(num_classes:int=3,\n",
        "                     seed:int=42):\n",
        "    \"\"\"Creates a ViT-B/16 feature extractor model and transforms.\n",
        "\n",
        "    Args:\n",
        "        num_classes (int, optional): number of target classes. Defaults to 3.\n",
        "        seed (int, optional): random seed value for output layer. Defaults to 42.\n",
        "\n",
        "    Returns:\n",
        "        model (torch.nn.Module): ViT-B/16 feature extractor model.\n",
        "        transforms (torchvision.transforms): ViT-B/16 image transforms.\n",
        "    \"\"\"\n",
        "    # Create ViT_B_16 pretrained weights, transforms and model\n",
        "    weights = torchvision.models.ViT_B_16_Weights.DEFAULT\n",
        "    transforms = weights.transforms()\n",
        "    model = torchvision.models.vit_b_16(weights=weights)\n",
        "\n",
        "    # Freeze all layers in model\n",
        "    for param in model.parameters():\n",
        "        param.requires_grad = False\n",
        "\n",
        "    # Change classifier head to suit our needs (this will be trainable)\n",
        "    torch.manual_seed(seed)\n",
        "    model.heads = nn.Sequential(nn.Linear(in_features=768, # keep this the same as original model\n",
        "                                          out_features=num_classes)) # update to reflect target number of classes\n",
        "\n",
        "    return model, transforms"
      ],
      "metadata": {
        "id": "R_uBrv6oHnWe"
      },
      "execution_count": null,
      "outputs": []
    },
    {
      "cell_type": "code",
      "source": [
        "# Create ViT model and transforms\n",
        "vit, vit_transforms = create_vit_model(num_classes=3,\n",
        "                                       seed=42)"
      ],
      "metadata": {
        "id": "0Idu-3-LHuGG"
      },
      "execution_count": null,
      "outputs": []
    },
    {
      "cell_type": "code",
      "source": [
        "from torchinfo import summary\n",
        "\n",
        "# # Print ViT feature extractor model summary (uncomment for full output)\n",
        "summary(vit,\n",
        "        input_size=(1, 3, 224, 224),\n",
        "        col_names=[\"input_size\", \"output_size\", \"num_params\", \"trainable\"],\n",
        "        col_width=20,\n",
        "        row_settings=[\"var_names\"])"
      ],
      "metadata": {
        "id": "pUoprhAfHxti"
      },
      "execution_count": null,
      "outputs": []
    },
    {
      "cell_type": "code",
      "source": [
        "# Setup ViT DataLoaders\n",
        "from modular import data_setup\n",
        "train_dataloader_vit, test_dataloader_vit, class_names = data_setup.create_dataloaders(train_dir=train_dir,\n",
        "                                                                                       test_dir=test_dir,\n",
        "                                                                                       transform=vit_transforms,\n",
        "                                                                                       batch_size=32)"
      ],
      "metadata": {
        "id": "PZ6PxOzbH4lO"
      },
      "execution_count": null,
      "outputs": []
    },
    {
      "cell_type": "code",
      "source": [
        "from modular import engine\n",
        "\n",
        "# Setup optimizer\n",
        "optimizer = torch.optim.Adam(params=vit.parameters(),\n",
        "                             lr=1e-3)\n",
        "# Setup loss function\n",
        "loss_fn = torch.nn.CrossEntropyLoss()\n",
        "\n",
        "# Train ViT model with seeds set for reproducibility\n",
        "set_seeds()\n",
        "vit_results = engine.train(model=vit,\n",
        "                           train_dataloader=train_dataloader_vit,\n",
        "                           test_dataloader=test_dataloader_vit,\n",
        "                           epochs=10,\n",
        "                           optimizer=optimizer,\n",
        "                           loss_fn=loss_fn,\n",
        "                           device=device)"
      ],
      "metadata": {
        "id": "bfrMXivWH-oT"
      },
      "execution_count": null,
      "outputs": []
    },
    {
      "cell_type": "code",
      "source": [
        "from modular.helper import plot_loss_curves\n",
        "\n",
        "plot_loss_curves(vit_results)"
      ],
      "metadata": {
        "id": "-n65LA9FIF6u"
      },
      "execution_count": null,
      "outputs": []
    },
    {
      "cell_type": "code",
      "source": [
        "# Save the model\n",
        "from modular import utils\n",
        "\n",
        "utils.save_model(model=vit,\n",
        "                 target_dir=\"models\",\n",
        "                 model_name=\"pretrained_vit_feature_extractor_3_types_of_flowers.pth\")"
      ],
      "metadata": {
        "id": "smoltQH7IJvd"
      },
      "execution_count": null,
      "outputs": []
    },
    {
      "cell_type": "code",
      "source": [
        "from pathlib import Path\n",
        "\n",
        "# Get the model size in bytes then convert to megabytes\n",
        "pretrained_vit_model_size = Path(\"models/pretrained_vit_feature_extractor_3_types_of_flowers.pth\").stat().st_size // (1024*1024) # division converts bytes to megabytes (roughly)\n",
        "print(f\"Pretrained ViT feature extractor model size: {pretrained_vit_model_size} MB\")"
      ],
      "metadata": {
        "id": "OAEWKXmSITTd"
      },
      "execution_count": null,
      "outputs": []
    },
    {
      "cell_type": "code",
      "source": [
        "# Count number of parameters in ViT\n",
        "vit_total_params = sum(torch.numel(param) for param in vit.parameters())\n",
        "vit_total_params"
      ],
      "metadata": {
        "id": "qe-SMPNWIaSQ"
      },
      "execution_count": null,
      "outputs": []
    },
    {
      "cell_type": "code",
      "source": [
        "# Create ViT statistics dictionary\n",
        "vit_stats = {\"test_loss\": vit_results[\"test_loss\"][-1],\n",
        "             \"test_acc\": vit_results[\"test_acc\"][-1],\n",
        "             \"number_of_parameters\": vit_total_params,\n",
        "             \"model_size (MB)\": pretrained_vit_model_size}\n",
        "\n",
        "vit_stats"
      ],
      "metadata": {
        "id": "-J01oQIJIinE"
      },
      "execution_count": null,
      "outputs": []
    },
    {
      "cell_type": "markdown",
      "source": [],
      "metadata": {
        "id": "ni-NAfrZjkua"
      }
    },
    {
      "cell_type": "code",
      "source": [
        "regnet = torchvision.models.regnet_y_128gf()\n",
        "regnet.fc"
      ],
      "metadata": {
        "id": "36FnAbwWjlsK"
      },
      "execution_count": null,
      "outputs": []
    },
    {
      "cell_type": "code",
      "source": [
        "def create_regnet_model(num_classes:int=3,\n",
        "                         seed:int=42):\n",
        "\n",
        "  weights = torchvision.models.RegNet_Y_128GF_Weights.DEFAULT\n",
        "  transforms = weights.transforms()\n",
        "  model = torchvision.models.regnet_y_128gf(weights=weights)\n",
        "\n",
        "  for param in model.parameters():\n",
        "    param.requires_grad = False\n",
        "\n",
        "  torch.manual_seed(seed)\n",
        "  model.fc = nn.Sequential(\n",
        "        nn.Dropout(p=0.3, inplace=True),\n",
        "        nn.Linear(in_features=7392, out_features=num_classes),\n",
        "    )\n",
        "\n",
        "  return model, transforms"
      ],
      "metadata": {
        "id": "_vH0hlENkKcW"
      },
      "execution_count": null,
      "outputs": []
    },
    {
      "cell_type": "code",
      "source": [
        "regnet, regnet_transforms = create_regnet_model(num_classes=3,\n",
        "                                                      seed=42)"
      ],
      "metadata": {
        "id": "1tps7Gohk5lp"
      },
      "execution_count": null,
      "outputs": []
    },
    {
      "cell_type": "code",
      "source": [
        "from torchinfo import summary\n",
        "summary(\n",
        "    regnet,\n",
        "    input_size=(1, 3, 224, 224),\n",
        "    col_names=[\"input_size\", \"output_size\", \"num_params\", \"trainable\"],\n",
        "    col_width=20,\n",
        "    row_settings=[\"var_names\"]\n",
        ")"
      ],
      "metadata": {
        "id": "K2SQ7vN2k_XZ"
      },
      "execution_count": null,
      "outputs": []
    },
    {
      "cell_type": "code",
      "source": [
        "from modular import data_setup\n",
        "train_dataloader_regnet, test_dataloader_regnet, class_names = data_setup.create_dataloaders(\n",
        "    train_dir=train_dir,\n",
        "    test_dir=test_dir,\n",
        "    transform=regnet_transforms,\n",
        "    batch_size=32\n",
        ")"
      ],
      "metadata": {
        "id": "B07Wk9yplFSV"
      },
      "execution_count": null,
      "outputs": []
    },
    {
      "cell_type": "code",
      "source": [
        "from modular import engine\n",
        "\n",
        "optimizer = torch.optim.Adam(\n",
        "    params=regnet.parameters(),\n",
        "    lr=1e-3\n",
        ")\n",
        "\n",
        "loss_fn = torch.nn.CrossEntropyLoss()\n",
        "\n",
        "set_seeds()\n",
        "regnet_results = engine.train(\n",
        "    model=regnet,\n",
        "    train_dataloader=train_dataloader_regnet,\n",
        "    test_dataloader=test_dataloader_regnet,\n",
        "    epochs=10,\n",
        "    optimizer=optimizer,\n",
        "    loss_fn=loss_fn,\n",
        "    device=device)\n",
        "\n"
      ],
      "metadata": {
        "id": "drkuzJ8WlScT"
      },
      "execution_count": null,
      "outputs": []
    },
    {
      "cell_type": "code",
      "source": [
        "from modular.helper import plot_loss_curves\n",
        "\n",
        "plot_loss_curves(regnet_results)"
      ],
      "metadata": {
        "id": "2U0fz1HHlRyY"
      },
      "execution_count": null,
      "outputs": []
    },
    {
      "cell_type": "code",
      "source": [
        "from modular import utils\n",
        "\n",
        "utils.save_model(model=regnet,\n",
        "                 target_dir=\"models\",\n",
        "                 model_name=\"pretrained_regnet_feature_extractor_3_types_of_flowers.pth\")"
      ],
      "metadata": {
        "id": "k1SAYTC7lhal"
      },
      "execution_count": null,
      "outputs": []
    },
    {
      "cell_type": "code",
      "source": [
        "from pathlib import Path\n",
        "pretrained_regnet_model_size = Path(\"models/pretrained_regnet_feature_extractor_3_types_of_flowers.pth\").stat().st_size // (1024*1024) # division converts bytes to megabytes (roughly)\n",
        "print(f\"Pretrained RegNet feature extractor model size: {pretrained_regnet_model_size} MB\")"
      ],
      "metadata": {
        "id": "xkaCLx0zloSu"
      },
      "execution_count": null,
      "outputs": []
    },
    {
      "cell_type": "code",
      "source": [
        "regnet_total_params = sum(torch.numel(param) for param in regnet.parameters())\n",
        "regnet_total_params"
      ],
      "metadata": {
        "id": "JEhtS0ZDloNk"
      },
      "execution_count": null,
      "outputs": []
    },
    {
      "cell_type": "code",
      "source": [
        "regnet_stats = {\n",
        "    \"test_loss\": regnet_results[\"test_loss\"][-1],\n",
        "    \"test_acc\": regnet_results[\"test_acc\"][-1],\n",
        "    \"number_of_parameters\": regnet_total_params,\n",
        "    \"model_size (MB)\": pretrained_regnet_model_size\n",
        "}\n",
        "regnet_stats"
      ],
      "metadata": {
        "id": "kkhFRYphmA2o"
      },
      "execution_count": null,
      "outputs": []
    },
    {
      "cell_type": "code",
      "source": [
        "from pathlib import Path\n",
        "\n",
        "# Get all test data paths\n",
        "print(f\"[INFO] Finding all filepaths ending with '.png' in directory: {test_dir}\")\n",
        "test_data_paths = list(Path(test_dir).glob(\"*/*.jpg\"))\n",
        "test_data_paths[:5]"
      ],
      "metadata": {
        "id": "bR19tRm-JeAJ"
      },
      "execution_count": null,
      "outputs": []
    },
    {
      "cell_type": "markdown",
      "source": [
        "##This is for debug purpose"
      ],
      "metadata": {
        "id": "d_A3YJinqEXD"
      }
    },
    {
      "cell_type": "code",
      "source": [
        "from pathlib import Path\n",
        "\n",
        "# Define your test directory and target filenames\n",
        "\n",
        "target_filenames = {\"0.jpg\", \"20.jpg\", \"60.jpg\"}\n",
        "\n",
        "# Get all .jpg files and filter based on the filename\n",
        "print(f\"[INFO] Finding files named {target_filenames} in directory: {Path(test_dir)}\")\n",
        "test_data_paths = [\n",
        "    path for path in Path(test_dir).glob(\"*/*.jpg\")\n",
        "    if path.name in target_filenames\n",
        "]\n",
        "\n",
        "# Display first few paths\n",
        "print(test_data_paths[:5])\n"
      ],
      "metadata": {
        "id": "2ksdx-DAp_xO"
      },
      "execution_count": null,
      "outputs": []
    },
    {
      "cell_type": "code",
      "source": [
        "from modular.utils import pred_and_store\n",
        "\n",
        "# Make predictions across test dataset with EffNetB2\n",
        "effnetb2_test_pred_dicts = pred_and_store(paths=test_data_paths,\n",
        "                                          model=effnetb2,\n",
        "                                          transform=effnetb2_transforms,\n",
        "                                          class_names=class_names,\n",
        "                                          device=\"cpu\") # make predictions on CPU"
      ],
      "metadata": {
        "id": "OHiS9oceKtmI"
      },
      "execution_count": null,
      "outputs": []
    },
    {
      "cell_type": "code",
      "source": [
        "# Inspect the first 2 prediction dictionaries\n",
        "effnetb2_test_pred_dicts[:]"
      ],
      "metadata": {
        "id": "mJzcU01CKwZn"
      },
      "execution_count": null,
      "outputs": []
    },
    {
      "cell_type": "code",
      "source": [
        "# Turn the test_pred_dicts into a DataFrame\n",
        "import pandas as pd\n",
        "effnetb2_test_pred_df = pd.DataFrame(effnetb2_test_pred_dicts)\n",
        "effnetb2_test_pred_df.head()"
      ],
      "metadata": {
        "id": "dm9suJaMKzTT"
      },
      "execution_count": null,
      "outputs": []
    },
    {
      "cell_type": "code",
      "source": [
        "# Check number of correct predictions\n",
        "effnetb2_test_pred_df.correct.value_counts()"
      ],
      "metadata": {
        "id": "Z8O9KTqgK1P1"
      },
      "execution_count": null,
      "outputs": []
    },
    {
      "cell_type": "code",
      "source": [
        "# Find the average time per prediction\n",
        "effnetb2_average_time_per_pred = round(effnetb2_test_pred_df.time_for_pred.mean(), 4)\n",
        "print(f\"EffNetB2 average time per prediction: {effnetb2_average_time_per_pred} seconds\")"
      ],
      "metadata": {
        "id": "eT0Wl5RTK4BV"
      },
      "execution_count": null,
      "outputs": []
    },
    {
      "cell_type": "code",
      "source": [
        "# Add EffNetB2 average prediction time to stats dictionary\n",
        "effnetb2_stats[\"time_per_pred_cpu\"] = effnetb2_average_time_per_pred\n",
        "effnetb2_stats"
      ],
      "metadata": {
        "id": "8Pc-ODfBK6ks"
      },
      "execution_count": null,
      "outputs": []
    },
    {
      "cell_type": "markdown",
      "source": [
        "### Predictions of effnetb3"
      ],
      "metadata": {
        "id": "xoRV_loNrJWg"
      }
    },
    {
      "cell_type": "code",
      "source": [
        "effnetb3_test_pred_dicts = pred_and_store(paths=test_data_paths,\n",
        "                                          model=effnetb3,\n",
        "                                          transform=effnetb3_transforms,\n",
        "                                          class_names=class_names,\n",
        "                                          device=\"cpu\")\n",
        "\n",
        "import pandas as pd\n",
        "effnetb3_test_pred_df = pd.DataFrame(effnetb3_test_pred_dicts)\n",
        "effnetb3_test_pred_df.head()\n",
        "effnetb3_test_pred_df.correct.value_counts()\n",
        "\n",
        "effnetb3_average_time_per_pred = round(effnetb3_test_pred_df.time_for_pred.mean(), 4)\n",
        "print(f\"EffNetB3 average time per prediction: {effnetb3_average_time_per_pred} seconds\")\n",
        "\n",
        "effnetb3_stats[\"time_per_pred_cpu\"] = effnetb3_average_time_per_pred\n",
        "effnetb3_stats"
      ],
      "metadata": {
        "id": "QJwRelJ5rO04"
      },
      "execution_count": null,
      "outputs": []
    },
    {
      "cell_type": "markdown",
      "source": [
        "### Predictions of vit"
      ],
      "metadata": {
        "id": "cQZSDLf-sJg1"
      }
    },
    {
      "cell_type": "code",
      "source": [
        "# Make list of prediction dictionaries with ViT feature extractor model on test images\n",
        "vit_test_pred_dicts = pred_and_store(paths=test_data_paths,\n",
        "                                     model=vit,\n",
        "                                     transform=vit_transforms,\n",
        "                                     class_names=class_names,\n",
        "                                     device=\"cpu\")"
      ],
      "metadata": {
        "id": "r_AQ7NhEK-on"
      },
      "execution_count": null,
      "outputs": []
    },
    {
      "cell_type": "code",
      "source": [
        "# Check the first couple of ViT predictions on the test dataset\n",
        "vit_test_pred_dicts[:2]"
      ],
      "metadata": {
        "id": "Al_06f-mK_fq"
      },
      "execution_count": null,
      "outputs": []
    },
    {
      "cell_type": "code",
      "source": [
        "# Turn vit_test_pred_dicts into a DataFrame\n",
        "import pandas as pd\n",
        "vit_test_pred_df = pd.DataFrame(vit_test_pred_dicts)\n",
        "vit_test_pred_df.head()"
      ],
      "metadata": {
        "id": "5uWbrYG4LCQe"
      },
      "execution_count": null,
      "outputs": []
    },
    {
      "cell_type": "code",
      "source": [
        "# Count the number of correct predictions\n",
        "vit_test_pred_df.correct.value_counts()"
      ],
      "metadata": {
        "id": "dWvrBqkSLCME"
      },
      "execution_count": null,
      "outputs": []
    },
    {
      "cell_type": "code",
      "source": [
        "# Calculate average time per prediction for ViT model\n",
        "vit_average_time_per_pred = round(vit_test_pred_df.time_for_pred.mean(), 4)\n",
        "print(f\"ViT average time per prediction: {vit_average_time_per_pred} seconds\")"
      ],
      "metadata": {
        "id": "nonIbv_wLCHi"
      },
      "execution_count": null,
      "outputs": []
    },
    {
      "cell_type": "code",
      "source": [
        "# Add average prediction time for ViT model on CPU\n",
        "vit_stats[\"time_per_pred_cpu\"] = vit_average_time_per_pred\n",
        "vit_stats"
      ],
      "metadata": {
        "id": "MFeYrZTLLCCo"
      },
      "execution_count": null,
      "outputs": []
    },
    {
      "cell_type": "markdown",
      "source": [
        "### Predictions of Regnet"
      ],
      "metadata": {
        "id": "6swEuTOLsPtQ"
      }
    },
    {
      "cell_type": "code",
      "source": [
        "regnet_test_pred_dicts = pred_and_store(paths=test_data_paths,\n",
        "                                     model=regnet,\n",
        "                                     transform=regnet_transforms,\n",
        "                                     class_names=class_names,\n",
        "                                     device=\"cpu\")\n",
        "\n",
        "import pandas as pd\n",
        "regnet_test_pred_df = pd.DataFrame(regnet_test_pred_dicts)\n",
        "regnet_test_pred_df.head()\n",
        "\n",
        "regnet_test_pred_df.correct.value_counts()\n",
        "\n",
        "regnet_average_time_per_pred = round(regnet_test_pred_df.time_for_pred.mean(), 4)\n",
        "print(f\"RegNet average time per prediction: {regnet_average_time_per_pred} seconds\")\n",
        "\n",
        "regnet_stats[\"time_per_pred_cpu\"] = regnet_average_time_per_pred\n",
        "regnet_stats\n",
        "\n"
      ],
      "metadata": {
        "id": "UbaM3pfSsS69"
      },
      "execution_count": null,
      "outputs": []
    },
    {
      "cell_type": "code",
      "source": [
        "# Turn stat dictionaries into DataFrame\n",
        "df = pd.DataFrame([effnetb2_stats, effnetb3_stats, vit_stats, regnet_stats])\n",
        "\n",
        "# Add column for model names\n",
        "df[\"model\"] = [\"EffNetB2\", \"EffNetB3\", \"ViT\", \"RegNet\"]\n",
        "\n",
        "# Convert accuracy to percentages\n",
        "df[\"test_acc\"] = round(df[\"test_acc\"] * 100, 2)\n",
        "\n",
        "df"
      ],
      "metadata": {
        "id": "1Z0PrsGOLB-a"
      },
      "execution_count": null,
      "outputs": []
    },
    {
      "cell_type": "code",
      "source": [
        "# Compare ViT to EffNetB2 across different characteristics\n",
        "pd.DataFrame(data=(df.set_index(\"model\").loc[\"ViT\"] / df.set_index(\"model\").loc[\"EffNetB2\"]), # divide ViT statistics by EffNetB2 statistics\n",
        "             columns=[\"ViT to EffNetB2 ratios\"]).T"
      ],
      "metadata": {
        "id": "Brf7orrqLB6k"
      },
      "execution_count": null,
      "outputs": []
    },
    {
      "cell_type": "code",
      "source": [
        "!mkdir images/"
      ],
      "metadata": {
        "id": "BjoIRLItB0UT"
      },
      "execution_count": null,
      "outputs": []
    },
    {
      "cell_type": "code",
      "source": [
        "# 1. Create a plot from model comparison DataFrame\n",
        "fig, ax = plt.subplots(figsize=(12, 8))\n",
        "scatter = ax.scatter(data=df,\n",
        "                     x=\"time_per_pred_cpu\",\n",
        "                     y=\"test_acc\",\n",
        "                     c=[\"blue\", \"orange\", \"red\", \"green\"], # what colours to use?\n",
        "                     s=\"model_size (MB)\") # size the dots by the model sizes\n",
        "\n",
        "# 2. Add titles, labels and customize fontsize for aesthetics\n",
        "ax.set_title(\"Flower Experiment Inference Speed vs Performance\", fontsize=18)\n",
        "ax.set_xlabel(\"Prediction time per image (seconds)\", fontsize=14)\n",
        "ax.set_ylabel(\"Test accuracy (%)\", fontsize=14)\n",
        "ax.tick_params(axis='both', labelsize=12)\n",
        "ax.grid(True)\n",
        "\n",
        "# 3. Annotate with model names\n",
        "for index, row in df.iterrows():\n",
        "    ax.annotate(text=row[\"model\"], # note: depending on your version of Matplotlib, you may need to use \"s=...\" or \"text=...\", see: https://github.com/faustomorales/keras-ocr/issues/183#issuecomment-977733270\n",
        "                xy=(row[\"time_per_pred_cpu\"]+0.0006, row[\"test_acc\"]+0.03),\n",
        "                size=12)\n",
        "\n",
        "# 4. Create a legend based on model sizes\n",
        "handles, labels = scatter.legend_elements(prop=\"sizes\", alpha=0.5)\n",
        "model_size_legend = ax.legend(handles,\n",
        "                              labels,\n",
        "                              loc=\"lower right\",\n",
        "                              title=\"Model size (MB)\",\n",
        "                              fontsize=12)\n",
        "\n",
        "# Save the figure\n",
        "plt.savefig(\"images/flower-inference-speed-vs-performance.jpg\")\n",
        "\n",
        "# Show the figure\n",
        "plt.show()"
      ],
      "metadata": {
        "id": "a_AYAUcgLOAw"
      },
      "execution_count": null,
      "outputs": []
    },
    {
      "cell_type": "code",
      "source": [
        "# Import/install Gradio\n",
        "try:\n",
        "    import gradio as gr\n",
        "except:\n",
        "    !pip -q install gradio\n",
        "    import gradio as gr\n",
        "\n",
        "print(f\"Gradio version: {gr.__version__}\")"
      ],
      "metadata": {
        "id": "qOAEIPe-LN4X"
      },
      "execution_count": null,
      "outputs": []
    },
    {
      "cell_type": "code",
      "source": [
        "# Put EffNetB2 on CPU\n",
        "effnetb2.to(\"cpu\")\n",
        "\n",
        "# Check the device\n",
        "next(iter(effnetb2.parameters())).device"
      ],
      "metadata": {
        "id": "LJ_HLSF1LNzL"
      },
      "execution_count": null,
      "outputs": []
    },
    {
      "cell_type": "code",
      "source": [
        "from typing import Tuple, Dict\n",
        "from time import time\n",
        "\n",
        "\n",
        "def predict(img) -> Tuple[Dict, float]:\n",
        "    \"\"\"Transforms and performs a prediction on img and returns prediction and time taken.\n",
        "    \"\"\"\n",
        "    # Start the timer\n",
        "    start_time = time()\n",
        "\n",
        "    # Transform the target image and add a batch dimension\n",
        "    img = effnetb2_transforms(img).unsqueeze(0)\n",
        "\n",
        "    # Put model into evaluation mode and turn on inference mode\n",
        "    effnetb2.eval()\n",
        "    with torch.inference_mode():\n",
        "        # Pass the transformed image through the model and turn the prediction logits into prediction probabilities\n",
        "        pred_probs = torch.softmax(effnetb2(img), dim=1)\n",
        "\n",
        "    # Create a prediction label and prediction probability dictionary for each prediction class (this is the required format for Gradio's output parameter)\n",
        "    pred_labels_and_probs = {class_names[i]: float(pred_probs[0][i]) for i in range(len(class_names))}\n",
        "\n",
        "    # Calculate the prediction time\n",
        "    pred_time = round(time() - start_time, 5)\n",
        "\n",
        "    # Return the prediction dictionary and prediction time\n",
        "    return pred_labels_and_probs, pred_time"
      ],
      "metadata": {
        "id": "NNtNrO-dLNs4"
      },
      "execution_count": null,
      "outputs": []
    },
    {
      "cell_type": "code",
      "source": [
        "import random\n",
        "from PIL import Image\n",
        "\n",
        "# Get a list of all test image filepaths\n",
        "# test_data_paths = list(Path(test_dir).glob(\"*/*.jpg\"))\n",
        "\n",
        "# Randomly select a test image path\n",
        "random_image_path = random.sample(test_data_paths, k=1)[0]\n",
        "\n",
        "# Open the target image\n",
        "image = Image.open(random_image_path)\n",
        "print(f\"[INFO] Predicting on image at path: {random_image_path}\\n\")\n",
        "\n",
        "# Predict on the target image and print out the outputs\n",
        "pred_dict, pred_time = predict(img=image)\n",
        "print(f\"Prediction label and probability dictionary: \\n{pred_dict}\")\n",
        "print(f\"Prediction time: {pred_time} seconds\")"
      ],
      "metadata": {
        "id": "O3lSqg05LjDt"
      },
      "execution_count": null,
      "outputs": []
    },
    {
      "cell_type": "code",
      "source": [
        "test_data_paths"
      ],
      "metadata": {
        "id": "eFqhbwAmy31w"
      },
      "execution_count": null,
      "outputs": []
    },
    {
      "cell_type": "code",
      "source": [
        "# Create a list of example inputs to our Gradio demo\n",
        "example_list = [[str(filepath)] for filepath in random.sample(test_data_paths, k=3)]\n",
        "example_list"
      ],
      "metadata": {
        "id": "m5e20pn3Lnft"
      },
      "execution_count": null,
      "outputs": []
    },
    {
      "cell_type": "code",
      "source": [
        "import gradio as gr\n",
        "\n",
        "# Create title, description and article strings\n",
        "title = \"Flower Classification\"\n",
        "description = \"An EfficientNetB2 feature extractor computer vision model to classify images of flowers as 'pink primrose', 'hard-leaved pocket orchid', 'canterbury bells'\"\n",
        "article = \"Created as a part of personal projects\"\n",
        "\n",
        "# Create the Gradio demo\n",
        "demo = gr.Interface(fn=predict, # mapping function from input to output\n",
        "                    inputs=gr.Image(type=\"pil\"), # what are the inputs?\n",
        "                    outputs=[gr.Label(num_top_classes=3, label=\"Predictions\"), # what are the outputs?\n",
        "                             gr.Number(label=\"Prediction time (s)\")], # our fn has two outputs, therefore we have two outputs\n",
        "                    examples=example_list,\n",
        "                    title=title,\n",
        "                    description=description,\n",
        "                    article=article)\n",
        "\n",
        "# Launch the demo!\n",
        "demo.launch(debug=False, # print errors locally?\n",
        "            share=True) # generate a publically shareable URL?"
      ],
      "metadata": {
        "id": "pyFoprqBLq6L"
      },
      "execution_count": null,
      "outputs": []
    },
    {
      "cell_type": "code",
      "source": [
        "import shutil\n",
        "from pathlib import Path\n",
        "\n",
        "# Create FoodVision mini demo path\n",
        "flower_mini_demo_path = Path(\"demos/flower_classification_mini/\")\n",
        "\n",
        "# Remove files that might already exist there and create new directory\n",
        "if flower_mini_demo_path.exists():\n",
        "    shutil.rmtree(flower_mini_demo_path)\n",
        "# If the file doesn't exist, create it anyway\n",
        "flower_mini_demo_path.mkdir(parents=True,\n",
        "                                exist_ok=True)\n",
        "\n",
        "# Check what's in the folder\n",
        "!ls demos/flower_classification_mini/"
      ],
      "metadata": {
        "id": "jsM263IlL5Ny"
      },
      "execution_count": null,
      "outputs": []
    },
    {
      "cell_type": "code",
      "source": [
        "import shutil\n",
        "from pathlib import Path\n",
        "\n",
        "# 1. Create an examples directory\n",
        "flower_mini_examples_path = flower_mini_demo_path / \"examples\"\n",
        "flower_mini_examples_path.mkdir(parents=True, exist_ok=True)\n",
        "\n",
        "# 2. Collect three random test dataset image paths\n",
        "flower_mini_examples = [Path('data/3_types_of_flowers_100%/test/hard-leaved pocket orchid/20.jpg'),\n",
        "                            Path('data/3_types_of_flowers_100%/test/canterbury bells/60.jpg'),\n",
        "                            Path('data/3_types_of_flowers_100%/test/pink primrose/0.jpg')]\n",
        "\n",
        "# 3. Copy the three random images to the examples directory\n",
        "for example in flower_mini_examples:\n",
        "    destination = flower_mini_examples_path / example.name\n",
        "    print(f\"[INFO] Copying {example} to {destination}\")\n",
        "    shutil.copy2(src=example, dst=destination)"
      ],
      "metadata": {
        "id": "N_AVBsETMAGF"
      },
      "execution_count": null,
      "outputs": []
    },
    {
      "cell_type": "code",
      "source": [
        "from modular.utils import pred_and_store\n",
        "\n",
        "effnetb2_test_pred_dicts = pred_and_store(paths=flower_mini_examples,\n",
        "                                          model=effnetb2,\n",
        "                                          transform=effnetb2_transforms,\n",
        "                                          class_names=class_names,\n",
        "                                          device=\"cpu\")\n",
        "effnetb2_test_pred_dicts[:]"
      ],
      "metadata": {
        "id": "ue6t2kGi15WI"
      },
      "execution_count": null,
      "outputs": []
    },
    {
      "cell_type": "code",
      "source": [
        "class_to_idx"
      ],
      "metadata": {
        "id": "3Eic68f04C7c"
      },
      "execution_count": null,
      "outputs": []
    },
    {
      "cell_type": "code",
      "source": [
        "import os\n",
        "\n",
        "# Get example filepaths in a list of lists\n",
        "example_list = [[\"examples/\" + example] for example in os.listdir(flower_mini_examples_path)]\n",
        "example_list"
      ],
      "metadata": {
        "id": "h1kJpVCiMCXn"
      },
      "execution_count": null,
      "outputs": []
    },
    {
      "cell_type": "code",
      "source": [
        "import shutil\n",
        "\n",
        "# Create a source path for our target model\n",
        "effnetb2_flower_mini_model_path = \"models/pretrained_effnetb2_feature_extractor_3_types_of_flowers_100%.pth\"\n",
        "\n",
        "# Create a destination path for our target model\n",
        "effnetb2_flower_mini_model_destination = flower_mini_demo_path / effnetb2_flower_mini_model_path.split(\"/\")[1]\n",
        "\n",
        "# Try to move the file\n",
        "try:\n",
        "    print(f\"[INFO] Attempting to move {effnetb2_flower_mini_model_path} to {effnetb2_flower_mini_model_destination}\")\n",
        "\n",
        "    # Move the model\n",
        "    shutil.move(src=effnetb2_flower_mini_model_path,\n",
        "                dst=effnetb2_flower_mini_model_destination)\n",
        "\n",
        "    print(f\"[INFO] Model move complete.\")\n",
        "\n",
        "# If the model has already been moved, check if it exists\n",
        "except:\n",
        "    print(f\"[INFO] No model found at {effnetb2_flower_mini_model_path}, perhaps its already been moved?\")\n",
        "    print(f\"[INFO] Model exists at {effnetb2_flower_mini_model_destination}: {effnetb2_flower_mini_model_destination.exists()}\")"
      ],
      "metadata": {
        "id": "7xwAmJCnMF9a"
      },
      "execution_count": null,
      "outputs": []
    },
    {
      "cell_type": "code",
      "source": [
        "%%writefile demos/flower_classification_mini/model.py\n",
        "import torch\n",
        "import torchvision\n",
        "\n",
        "from torch import nn\n",
        "\n",
        "\n",
        "def create_effnetb2_model(num_classes:int=3,\n",
        "                          seed:int=42):\n",
        "    \"\"\"Creates an EfficientNetB2 feature extractor model and transforms.\n",
        "\n",
        "    Args:\n",
        "        num_classes (int, optional): number of classes in the classifier head.\n",
        "            Defaults to 3.\n",
        "        seed (int, optional): random seed value. Defaults to 42.\n",
        "\n",
        "    Returns:\n",
        "        model (torch.nn.Module): EffNetB2 feature extractor model.\n",
        "        transforms (torchvision.transforms): EffNetB2 image transforms.\n",
        "    \"\"\"\n",
        "    # Create EffNetB2 pretrained weights, transforms and model\n",
        "    weights = torchvision.models.EfficientNet_B2_Weights.DEFAULT\n",
        "    transforms = weights.transforms()\n",
        "    model = torchvision.models.efficientnet_b2(weights=weights)\n",
        "\n",
        "    # Freeze all layers in base model\n",
        "    for param in model.parameters():\n",
        "        param.requires_grad = False\n",
        "\n",
        "    # Change classifier head with random seed for reproducibility\n",
        "    torch.manual_seed(seed)\n",
        "    model.classifier = nn.Sequential(\n",
        "        nn.Dropout(p=0.3, inplace=True),\n",
        "        nn.Linear(in_features=1408, out_features=num_classes),\n",
        "    )\n",
        "\n",
        "    return model, transforms"
      ],
      "metadata": {
        "id": "MO-zu6ZOMJMx"
      },
      "execution_count": null,
      "outputs": []
    },
    {
      "cell_type": "code",
      "source": [
        "%%writefile demos/flower_classification_mini/app.py\n",
        "### 1. Imports and class names setup ###\n",
        "import gradio as gr\n",
        "import os\n",
        "import torch\n",
        "\n",
        "from model import create_effnetb2_model\n",
        "from timeit import default_timer as timer\n",
        "from typing import Tuple, Dict\n",
        "\n",
        "# Setup class names\n",
        "class_names = [\"pink primrose\", \"hard-leaved pocket orchid\", \"canterbury bells\"]\n",
        "\n",
        "### 2. Model and transforms preparation ###\n",
        "\n",
        "# Create EffNetB2 model\n",
        "effnetb2, effnetb2_transforms = create_effnetb2_model(\n",
        "    num_classes=3, # len(class_names) would also work\n",
        ")\n",
        "\n",
        "# Load saved weights\n",
        "effnetb2.load_state_dict(\n",
        "    torch.load(\n",
        "        f=\"pretrained_effnetb2_feature_extractor_3_types_of_flowers_100%.pth\",\n",
        "        map_location=torch.device(\"cpu\"),  # load to CPU\n",
        "    )\n",
        ")\n",
        "\n",
        "### 3. Predict function ###\n",
        "\n",
        "# Create predict function\n",
        "def predict(img) -> Tuple[Dict, float]:\n",
        "    \"\"\"Transforms and performs a prediction on img and returns prediction and time taken.\n",
        "    \"\"\"\n",
        "    # Start the timer\n",
        "    start_time = timer()\n",
        "\n",
        "    # Transform the target image and add a batch dimension\n",
        "    img = effnetb2_transforms(img).unsqueeze(0)\n",
        "\n",
        "    # Put model into evaluation mode and turn on inference mode\n",
        "    effnetb2.eval()\n",
        "    with torch.inference_mode():\n",
        "        # Pass the transformed image through the model and turn the prediction logits into prediction probabilities\n",
        "        pred_probs = torch.softmax(effnetb2(img), dim=1)\n",
        "\n",
        "    # Create a prediction label and prediction probability dictionary for each prediction class (this is the required format for Gradio's output parameter)\n",
        "    pred_labels_and_probs = {class_names[i]: float(pred_probs[0][i]) for i in range(len(class_names))}\n",
        "\n",
        "    # Calculate the prediction time\n",
        "    pred_time = round(timer() - start_time, 5)\n",
        "\n",
        "    # Return the prediction dictionary and prediction time\n",
        "    return pred_labels_and_probs, pred_time\n",
        "\n",
        "### 4. Gradio app ###\n",
        "\n",
        "# Create title, description and article strings\n",
        "title = \"Flower Classification\"\n",
        "description = \"An EfficientNetB2 feature extractor computer vision model to classify images of 'pink primrose', 'hard-leaved pocket orchid','canterbury bells'\"\n",
        "article = \"\"\n",
        "\n",
        "# Create examples list from \"examples/\" directory\n",
        "example_list = [[\"examples/\" + example] for example in os.listdir(\"examples\")]\n",
        "\n",
        "# Create the Gradio demo\n",
        "demo = gr.Interface(fn=predict, # mapping function from input to output\n",
        "                    inputs=gr.Image(type=\"pil\"), # what are the inputs?\n",
        "                    outputs=[gr.Label(num_top_classes=3, label=\"Predictions\"), # what are the outputs?\n",
        "                             gr.Number(label=\"Prediction time (s)\")], # our fn has two outputs, therefore we have two outputs\n",
        "                    # Create examples list from \"examples/\" directory\n",
        "                    examples=example_list,\n",
        "                    title=title,\n",
        "                    description=description,\n",
        "                    article=article)\n",
        "\n",
        "# Launch the demo!\n",
        "demo.launch()"
      ],
      "metadata": {
        "id": "LI7pZpH4MNou"
      },
      "execution_count": null,
      "outputs": []
    },
    {
      "cell_type": "code",
      "source": [
        "print(torch.__version__)\n",
        "print(torchvision.__version__)\n",
        "print(gr.__version__)"
      ],
      "metadata": {
        "id": "QgBgYgCwXm6V"
      },
      "execution_count": null,
      "outputs": []
    },
    {
      "cell_type": "code",
      "source": [
        "%%writefile demos/flower_classification_mini/requirements.txt\n",
        "torch==2.6.0\n",
        "torchvision==0.21.0\n",
        "gradio==5.23.3"
      ],
      "metadata": {
        "id": "xBQtM0HxMZtM"
      },
      "execution_count": null,
      "outputs": []
    },
    {
      "cell_type": "code",
      "source": [
        "# Change into and then zip the foodvision_mini folder but exclude certain files\n",
        "!cd demos/flower_classification_mini && zip -r ../flower_classification_mini.zip * -x \"*.pyc\" \"*.ipynb\" \"*__pycache__*\" \"*ipynb_checkpoints*\"\n",
        "\n",
        "# Download the zipped flower classification mini app\n",
        "try:\n",
        "    from google.colab import files\n",
        "    files.download(\"demos/flower_classification_mini.zip\")\n",
        "except:\n",
        "    print(\"Not running in Google Colab, can't use google.colab.files.download(), please manually download.\")"
      ],
      "metadata": {
        "id": "ywE-QIxEMXi2"
      },
      "execution_count": null,
      "outputs": []
    },
    {
      "cell_type": "code",
      "source": [
        "# !git clone https://github.com/Keisuke-Miyata/Flower102_Classification_mini.git"
      ],
      "metadata": {
        "id": "rqt1jZtMae_Q"
      },
      "execution_count": null,
      "outputs": []
    },
    {
      "cell_type": "markdown",
      "source": [
        "torch==2.6.0\n",
        "torchvision==0.21.0\n",
        "gradio==3.44.4\n",
        "numpy==1.23.5\n",
        "httpx==0.27.0\n",
        "httpcore==1.0.2"
      ],
      "metadata": {
        "id": "RD4xybrrtde8"
      }
    }
  ]
}